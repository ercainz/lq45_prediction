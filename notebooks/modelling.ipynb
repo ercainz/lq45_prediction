{
 "cells": [
  {
   "cell_type": "code",
   "execution_count": 1,
   "metadata": {},
   "outputs": [],
   "source": [
    "import sys\n",
    "sys.path.insert(0, '..//src')\n",
    "sys.path.insert(0, '..//src//data')\n",
    "sys.path.insert(0, '..//src//features')\n",
    "sys.path.insert(0, '..//src//models')\n",
    "\n",
    "import global_func as gf\n",
    "import data_preprocessing\n",
    "import predict\n",
    "import fit_model\n",
    "\n",
    "import matplotlib.pyplot as plt\n",
    "import seaborn as sns\n",
    "import numpy as np\n",
    "import pandas as pd \n",
    "\n",
    "config_dir = '..\\\\config\\\\'\n",
    "data_dir = '..\\\\' + gf.read_config(config_dir=config_dir, section='DIR', key='DATA_PROCESSED')\n",
    "models_dir = '..\\\\' + gf.read_config(config_dir=config_dir, section='DIR', key='MODELS')\n",
    "remodel_dir = '..\\\\' + gf.read_config(config_dir=config_dir, section='DIR', key='DATA_REMODEL')\n",
    "\n",
    "\n",
    "DataPrep = data_preprocessing.DataPreprocessing()\n",
    "model = gf.load_from_pkl(filename=f'{models_dir}sarimax.pkl')\n",
    "scaler = gf.load_from_pkl(filename=f'{models_dir}scaler.pkl')\n",
    "Predictor = predict.Predictor(model=model, scaler=scaler)\n",
    "gf.save_as_pkl(obj=Predictor, filename=f'{models_dir}predictor.pkl', compress=6)"
   ]
  },
  {
   "cell_type": "markdown",
   "metadata": {},
   "source": [
    "# Load Clean Data"
   ]
  },
  {
   "cell_type": "code",
   "execution_count": null,
   "metadata": {},
   "outputs": [],
   "source": [
    "df_raw = gf.load_from_pkl(f'{data_dir}df_raw.pkl')\n",
    "df_train = gf.load_from_pkl(filename=f'{data_dir}df_train_05.pkl')\n",
    "df_valid = gf.load_from_pkl(filename=f'{data_dir}df_valid_05.pkl')\n",
    "df_test = gf.load_from_pkl(filename=f'{data_dir}df_test_05.pkl')\n",
    "\n",
    "df_train.name = 'df_train'\n",
    "df_valid.name = 'df_valid'\n",
    "df_test.name = 'df_test'\n",
    "\n",
    "#gf.plotting_line_all(dataframe=df_train)"
   ]
  },
  {
   "cell_type": "markdown",
   "metadata": {},
   "source": [
    "# Modelling"
   ]
  },
  {
   "cell_type": "markdown",
   "metadata": {},
   "source": [
    "## Fitting Model"
   ]
  },
  {
   "cell_type": "code",
   "execution_count": null,
   "metadata": {},
   "outputs": [],
   "source": [
    "model = fit_model.modelling(train_dataframe=df_train)"
   ]
  },
  {
   "cell_type": "markdown",
   "metadata": {},
   "source": [
    "## Model Summary"
   ]
  },
  {
   "cell_type": "code",
   "execution_count": null,
   "metadata": {},
   "outputs": [],
   "source": [
    "print(model.summary())"
   ]
  },
  {
   "cell_type": "markdown",
   "metadata": {},
   "source": [
    "## Save to PKL"
   ]
  },
  {
   "cell_type": "code",
   "execution_count": null,
   "metadata": {},
   "outputs": [],
   "source": [
    "#gf.create_pkl(obj=model, pkl=r'..\\models\\pkl\\sarimax(0,0,0)(2,1,0)(12).pkl')"
   ]
  },
  {
   "cell_type": "markdown",
   "metadata": {},
   "source": [
    "# End to End Process"
   ]
  },
  {
   "cell_type": "markdown",
   "metadata": {},
   "source": [
    "## Step 1"
   ]
  },
  {
   "cell_type": "code",
   "execution_count": 4,
   "metadata": {},
   "outputs": [
    {
     "name": "stdout",
     "output_type": "stream",
     "text": [
      "{'date': 'yyyymmdd', 'lq45': 0, 'jci': 0, 'idx30': 0, 'eido': 0, 'spy': 0, 'dom_b': 0, 'dom_s': 0, 'for_b': 0, 'for_s': 0}\n"
     ]
    },
    {
     "data": {
      "text/html": [
       "<div>\n",
       "<style scoped>\n",
       "    .dataframe tbody tr th:only-of-type {\n",
       "        vertical-align: middle;\n",
       "    }\n",
       "\n",
       "    .dataframe tbody tr th {\n",
       "        vertical-align: top;\n",
       "    }\n",
       "\n",
       "    .dataframe thead th {\n",
       "        text-align: right;\n",
       "    }\n",
       "</style>\n",
       "<table border=\"1\" class=\"dataframe\">\n",
       "  <thead>\n",
       "    <tr style=\"text-align: right;\">\n",
       "      <th></th>\n",
       "      <th>lq45</th>\n",
       "      <th>jci</th>\n",
       "      <th>idx30</th>\n",
       "      <th>eido</th>\n",
       "      <th>spy</th>\n",
       "      <th>dom_b</th>\n",
       "      <th>dom_s</th>\n",
       "      <th>for_b</th>\n",
       "      <th>for_s</th>\n",
       "    </tr>\n",
       "    <tr>\n",
       "      <th>date</th>\n",
       "      <th></th>\n",
       "      <th></th>\n",
       "      <th></th>\n",
       "      <th></th>\n",
       "      <th></th>\n",
       "      <th></th>\n",
       "      <th></th>\n",
       "      <th></th>\n",
       "      <th></th>\n",
       "    </tr>\n",
       "  </thead>\n",
       "  <tbody>\n",
       "    <tr>\n",
       "      <th>2022-11-17</th>\n",
       "      <td>100.230</td>\n",
       "      <td>200.230</td>\n",
       "      <td>300.230</td>\n",
       "      <td>0.000</td>\n",
       "      <td>500.0</td>\n",
       "      <td>440.230</td>\n",
       "      <td>330.230</td>\n",
       "      <td>202.230</td>\n",
       "      <td>0.000</td>\n",
       "    </tr>\n",
       "    <tr>\n",
       "      <th>2022-11-18</th>\n",
       "      <td>10100.669</td>\n",
       "      <td>202.669</td>\n",
       "      <td>303.669</td>\n",
       "      <td>604.669</td>\n",
       "      <td>0.0</td>\n",
       "      <td>449.669</td>\n",
       "      <td>339.669</td>\n",
       "      <td>292.669</td>\n",
       "      <td>119.669</td>\n",
       "    </tr>\n",
       "  </tbody>\n",
       "</table>\n",
       "</div>"
      ],
      "text/plain": [
       "                 lq45      jci    idx30     eido    spy    dom_b    dom_s  \\\n",
       "date                                                                        \n",
       "2022-11-17    100.230  200.230  300.230    0.000  500.0  440.230  330.230   \n",
       "2022-11-18  10100.669  202.669  303.669  604.669    0.0  449.669  339.669   \n",
       "\n",
       "              for_b    for_s  \n",
       "date                          \n",
       "2022-11-17  202.230    0.000  \n",
       "2022-11-18  292.669  119.669  "
      ]
     },
     "execution_count": 4,
     "metadata": {},
     "output_type": "execute_result"
    }
   ],
   "source": [
    "prior = [100.23,200.23,300.23,np.NaN,500,440.23,330.23,202.23,np.NaN]\n",
    "current = [10100.669,202.669,303.669,604.669,np.NaN,449.669,339.669,292.669,119.669]\n",
    "\n",
    "df = Predictor.parsing_data(prior=prior, current=current)\n",
    "print(Predictor.input_dict)\n",
    "df"
   ]
  },
  {
   "cell_type": "markdown",
   "metadata": {},
   "source": [
    "## Step 2"
   ]
  },
  {
   "cell_type": "code",
   "execution_count": 5,
   "metadata": {},
   "outputs": [
    {
     "data": {
      "text/html": [
       "<div>\n",
       "<style scoped>\n",
       "    .dataframe tbody tr th:only-of-type {\n",
       "        vertical-align: middle;\n",
       "    }\n",
       "\n",
       "    .dataframe tbody tr th {\n",
       "        vertical-align: top;\n",
       "    }\n",
       "\n",
       "    .dataframe thead th {\n",
       "        text-align: right;\n",
       "    }\n",
       "</style>\n",
       "<table border=\"1\" class=\"dataframe\">\n",
       "  <thead>\n",
       "    <tr style=\"text-align: right;\">\n",
       "      <th></th>\n",
       "      <th>lq45</th>\n",
       "      <th>jci</th>\n",
       "      <th>idx30</th>\n",
       "      <th>eido</th>\n",
       "      <th>spy</th>\n",
       "      <th>dom_b</th>\n",
       "      <th>dom_s</th>\n",
       "      <th>for_b</th>\n",
       "      <th>for_s</th>\n",
       "    </tr>\n",
       "    <tr>\n",
       "      <th>date</th>\n",
       "      <th></th>\n",
       "      <th></th>\n",
       "      <th></th>\n",
       "      <th></th>\n",
       "      <th></th>\n",
       "      <th></th>\n",
       "      <th></th>\n",
       "      <th></th>\n",
       "      <th></th>\n",
       "    </tr>\n",
       "  </thead>\n",
       "  <tbody>\n",
       "    <tr>\n",
       "      <th>2022-11-17</th>\n",
       "      <td>100.230</td>\n",
       "      <td>200.230</td>\n",
       "      <td>300.230</td>\n",
       "      <td>0.000</td>\n",
       "      <td>500.0</td>\n",
       "      <td>440.230</td>\n",
       "      <td>330.230</td>\n",
       "      <td>202.230</td>\n",
       "      <td>0.000</td>\n",
       "    </tr>\n",
       "    <tr>\n",
       "      <th>2022-11-18</th>\n",
       "      <td>10100.669</td>\n",
       "      <td>202.669</td>\n",
       "      <td>303.669</td>\n",
       "      <td>604.669</td>\n",
       "      <td>0.0</td>\n",
       "      <td>449.669</td>\n",
       "      <td>339.669</td>\n",
       "      <td>292.669</td>\n",
       "      <td>119.669</td>\n",
       "    </tr>\n",
       "  </tbody>\n",
       "</table>\n",
       "</div>"
      ],
      "text/plain": [
       "                 lq45      jci    idx30     eido    spy    dom_b    dom_s  \\\n",
       "date                                                                        \n",
       "2022-11-17    100.230  200.230  300.230    0.000  500.0  440.230  330.230   \n",
       "2022-11-18  10100.669  202.669  303.669  604.669    0.0  449.669  339.669   \n",
       "\n",
       "              for_b    for_s  \n",
       "date                          \n",
       "2022-11-17  202.230    0.000  \n",
       "2022-11-18  292.669  119.669  "
      ]
     },
     "execution_count": 5,
     "metadata": {},
     "output_type": "execute_result"
    }
   ],
   "source": [
    "# Maybe Unecessary\n",
    "df_2 = DataPrep.resampling(dataframe=df, interval='B', resampling_method='median', fillna_method='ffill')\n",
    "df_2"
   ]
  },
  {
   "cell_type": "markdown",
   "metadata": {},
   "source": [
    "## Step 3"
   ]
  },
  {
   "cell_type": "code",
   "execution_count": 6,
   "metadata": {},
   "outputs": [
    {
     "data": {
      "text/html": [
       "<div>\n",
       "<style scoped>\n",
       "    .dataframe tbody tr th:only-of-type {\n",
       "        vertical-align: middle;\n",
       "    }\n",
       "\n",
       "    .dataframe tbody tr th {\n",
       "        vertical-align: top;\n",
       "    }\n",
       "\n",
       "    .dataframe thead th {\n",
       "        text-align: right;\n",
       "    }\n",
       "</style>\n",
       "<table border=\"1\" class=\"dataframe\">\n",
       "  <thead>\n",
       "    <tr style=\"text-align: right;\">\n",
       "      <th></th>\n",
       "      <th>lq45</th>\n",
       "      <th>jci</th>\n",
       "      <th>idx30</th>\n",
       "      <th>eido</th>\n",
       "      <th>spy</th>\n",
       "      <th>dom_b</th>\n",
       "      <th>dom_s</th>\n",
       "      <th>for_b</th>\n",
       "      <th>for_s</th>\n",
       "      <th>dom_total</th>\n",
       "      <th>dom_net</th>\n",
       "      <th>for_total</th>\n",
       "      <th>for_net</th>\n",
       "    </tr>\n",
       "    <tr>\n",
       "      <th>date</th>\n",
       "      <th></th>\n",
       "      <th></th>\n",
       "      <th></th>\n",
       "      <th></th>\n",
       "      <th></th>\n",
       "      <th></th>\n",
       "      <th></th>\n",
       "      <th></th>\n",
       "      <th></th>\n",
       "      <th></th>\n",
       "      <th></th>\n",
       "      <th></th>\n",
       "      <th></th>\n",
       "    </tr>\n",
       "  </thead>\n",
       "  <tbody>\n",
       "    <tr>\n",
       "      <th>2022-11-17</th>\n",
       "      <td>100.230</td>\n",
       "      <td>200.230</td>\n",
       "      <td>300.230</td>\n",
       "      <td>0.000</td>\n",
       "      <td>500.0</td>\n",
       "      <td>440.230</td>\n",
       "      <td>330.230</td>\n",
       "      <td>202.230</td>\n",
       "      <td>0.000</td>\n",
       "      <td>770.460</td>\n",
       "      <td>110.0</td>\n",
       "      <td>202.230</td>\n",
       "      <td>202.23</td>\n",
       "    </tr>\n",
       "    <tr>\n",
       "      <th>2022-11-18</th>\n",
       "      <td>10100.669</td>\n",
       "      <td>202.669</td>\n",
       "      <td>303.669</td>\n",
       "      <td>604.669</td>\n",
       "      <td>0.0</td>\n",
       "      <td>449.669</td>\n",
       "      <td>339.669</td>\n",
       "      <td>292.669</td>\n",
       "      <td>119.669</td>\n",
       "      <td>789.338</td>\n",
       "      <td>110.0</td>\n",
       "      <td>412.338</td>\n",
       "      <td>173.00</td>\n",
       "    </tr>\n",
       "  </tbody>\n",
       "</table>\n",
       "</div>"
      ],
      "text/plain": [
       "                 lq45      jci    idx30     eido    spy    dom_b    dom_s  \\\n",
       "date                                                                        \n",
       "2022-11-17    100.230  200.230  300.230    0.000  500.0  440.230  330.230   \n",
       "2022-11-18  10100.669  202.669  303.669  604.669    0.0  449.669  339.669   \n",
       "\n",
       "              for_b    for_s  dom_total  dom_net  for_total  for_net  \n",
       "date                                                                  \n",
       "2022-11-17  202.230    0.000    770.460    110.0    202.230   202.23  \n",
       "2022-11-18  292.669  119.669    789.338    110.0    412.338   173.00  "
      ]
     },
     "execution_count": 6,
     "metadata": {},
     "output_type": "execute_result"
    }
   ],
   "source": [
    "df_3 = DataPrep.enriching(dataframe=df_2)\n",
    "df_3"
   ]
  },
  {
   "cell_type": "markdown",
   "metadata": {},
   "source": [
    "## Step 4"
   ]
  },
  {
   "cell_type": "code",
   "execution_count": 7,
   "metadata": {},
   "outputs": [
    {
     "data": {
      "text/html": [
       "<div>\n",
       "<style scoped>\n",
       "    .dataframe tbody tr th:only-of-type {\n",
       "        vertical-align: middle;\n",
       "    }\n",
       "\n",
       "    .dataframe tbody tr th {\n",
       "        vertical-align: top;\n",
       "    }\n",
       "\n",
       "    .dataframe thead th {\n",
       "        text-align: right;\n",
       "    }\n",
       "</style>\n",
       "<table border=\"1\" class=\"dataframe\">\n",
       "  <thead>\n",
       "    <tr style=\"text-align: right;\">\n",
       "      <th></th>\n",
       "      <th>lq45</th>\n",
       "      <th>jci</th>\n",
       "      <th>idx30</th>\n",
       "      <th>eido</th>\n",
       "      <th>spy</th>\n",
       "      <th>dom_b</th>\n",
       "      <th>dom_s</th>\n",
       "      <th>for_b</th>\n",
       "      <th>for_s</th>\n",
       "      <th>dom_total</th>\n",
       "      <th>dom_net</th>\n",
       "      <th>for_total</th>\n",
       "      <th>for_net</th>\n",
       "      <th>seasonal</th>\n",
       "    </tr>\n",
       "    <tr>\n",
       "      <th>date</th>\n",
       "      <th></th>\n",
       "      <th></th>\n",
       "      <th></th>\n",
       "      <th></th>\n",
       "      <th></th>\n",
       "      <th></th>\n",
       "      <th></th>\n",
       "      <th></th>\n",
       "      <th></th>\n",
       "      <th></th>\n",
       "      <th></th>\n",
       "      <th></th>\n",
       "      <th></th>\n",
       "      <th></th>\n",
       "    </tr>\n",
       "  </thead>\n",
       "  <tbody>\n",
       "    <tr>\n",
       "      <th>2022-11-17</th>\n",
       "      <td>100.230</td>\n",
       "      <td>200.230</td>\n",
       "      <td>300.230</td>\n",
       "      <td>0.000</td>\n",
       "      <td>500.0</td>\n",
       "      <td>440.230</td>\n",
       "      <td>330.230</td>\n",
       "      <td>202.230</td>\n",
       "      <td>0.000</td>\n",
       "      <td>770.460</td>\n",
       "      <td>110.0</td>\n",
       "      <td>202.230</td>\n",
       "      <td>202.23</td>\n",
       "      <td>1.009547</td>\n",
       "    </tr>\n",
       "    <tr>\n",
       "      <th>2022-11-18</th>\n",
       "      <td>10100.669</td>\n",
       "      <td>202.669</td>\n",
       "      <td>303.669</td>\n",
       "      <td>604.669</td>\n",
       "      <td>0.0</td>\n",
       "      <td>449.669</td>\n",
       "      <td>339.669</td>\n",
       "      <td>292.669</td>\n",
       "      <td>119.669</td>\n",
       "      <td>789.338</td>\n",
       "      <td>110.0</td>\n",
       "      <td>412.338</td>\n",
       "      <td>173.00</td>\n",
       "      <td>1.009547</td>\n",
       "    </tr>\n",
       "  </tbody>\n",
       "</table>\n",
       "</div>"
      ],
      "text/plain": [
       "                 lq45      jci    idx30     eido    spy    dom_b    dom_s  \\\n",
       "date                                                                        \n",
       "2022-11-17    100.230  200.230  300.230    0.000  500.0  440.230  330.230   \n",
       "2022-11-18  10100.669  202.669  303.669  604.669    0.0  449.669  339.669   \n",
       "\n",
       "              for_b    for_s  dom_total  dom_net  for_total  for_net  seasonal  \n",
       "date                                                                            \n",
       "2022-11-17  202.230    0.000    770.460    110.0    202.230   202.23  1.009547  \n",
       "2022-11-18  292.669  119.669    789.338    110.0    412.338   173.00  1.009547  "
      ]
     },
     "execution_count": 7,
     "metadata": {},
     "output_type": "execute_result"
    }
   ],
   "source": [
    "df_seasonal = gf.load_from_pkl(f'{remodel_dir}value_for_seasonal.pkl')\n",
    "df_4 = DataPrep.enriching_seasonal(dataframe=df_3, df_seasonal=df_seasonal)\n",
    "df_4"
   ]
  },
  {
   "cell_type": "markdown",
   "metadata": {},
   "source": [
    "## Step 5"
   ]
  },
  {
   "cell_type": "code",
   "execution_count": 8,
   "metadata": {},
   "outputs": [
    {
     "data": {
      "text/html": [
       "<div>\n",
       "<style scoped>\n",
       "    .dataframe tbody tr th:only-of-type {\n",
       "        vertical-align: middle;\n",
       "    }\n",
       "\n",
       "    .dataframe tbody tr th {\n",
       "        vertical-align: top;\n",
       "    }\n",
       "\n",
       "    .dataframe thead th {\n",
       "        text-align: right;\n",
       "    }\n",
       "</style>\n",
       "<table border=\"1\" class=\"dataframe\">\n",
       "  <thead>\n",
       "    <tr style=\"text-align: right;\">\n",
       "      <th></th>\n",
       "      <th>lq45</th>\n",
       "      <th>jci</th>\n",
       "      <th>idx30</th>\n",
       "      <th>eido</th>\n",
       "      <th>spy</th>\n",
       "      <th>dom_b</th>\n",
       "      <th>dom_s</th>\n",
       "      <th>for_b</th>\n",
       "      <th>for_s</th>\n",
       "      <th>dom_total</th>\n",
       "      <th>dom_net</th>\n",
       "      <th>for_total</th>\n",
       "      <th>for_net</th>\n",
       "      <th>seasonal</th>\n",
       "    </tr>\n",
       "    <tr>\n",
       "      <th>date</th>\n",
       "      <th></th>\n",
       "      <th></th>\n",
       "      <th></th>\n",
       "      <th></th>\n",
       "      <th></th>\n",
       "      <th></th>\n",
       "      <th></th>\n",
       "      <th></th>\n",
       "      <th></th>\n",
       "      <th></th>\n",
       "      <th></th>\n",
       "      <th></th>\n",
       "      <th></th>\n",
       "      <th></th>\n",
       "    </tr>\n",
       "  </thead>\n",
       "  <tbody>\n",
       "    <tr>\n",
       "      <th>2022-11-18</th>\n",
       "      <td>99.774908</td>\n",
       "      <td>0.012181</td>\n",
       "      <td>0.011455</td>\n",
       "      <td>inf</td>\n",
       "      <td>-1.0</td>\n",
       "      <td>0.021441</td>\n",
       "      <td>0.028583</td>\n",
       "      <td>292.669</td>\n",
       "      <td>119.669</td>\n",
       "      <td>0.024502</td>\n",
       "      <td>110.0</td>\n",
       "      <td>412.338</td>\n",
       "      <td>173.0</td>\n",
       "      <td>1.009547</td>\n",
       "    </tr>\n",
       "  </tbody>\n",
       "</table>\n",
       "</div>"
      ],
      "text/plain": [
       "                 lq45       jci     idx30  eido  spy     dom_b     dom_s  \\\n",
       "date                                                                       \n",
       "2022-11-18  99.774908  0.012181  0.011455   inf -1.0  0.021441  0.028583   \n",
       "\n",
       "              for_b    for_s  dom_total  dom_net  for_total  for_net  seasonal  \n",
       "date                                                                            \n",
       "2022-11-18  292.669  119.669   0.024502    110.0    412.338    173.0  1.009547  "
      ]
     },
     "execution_count": 8,
     "metadata": {},
     "output_type": "execute_result"
    }
   ],
   "source": [
    "pkl = f'{remodel_dir}list_non_stationary_cols.pkl'\n",
    "df_5 = DataPrep.stationary_transform(dataframe=df_4, non_stationary_cols_pkl=pkl)\n",
    "df_5"
   ]
  },
  {
   "cell_type": "markdown",
   "metadata": {},
   "source": [
    "## Step 6"
   ]
  },
  {
   "cell_type": "code",
   "execution_count": 10,
   "metadata": {},
   "outputs": [
    {
     "data": {
      "text/html": [
       "<div>\n",
       "<style scoped>\n",
       "    .dataframe tbody tr th:only-of-type {\n",
       "        vertical-align: middle;\n",
       "    }\n",
       "\n",
       "    .dataframe tbody tr th {\n",
       "        vertical-align: top;\n",
       "    }\n",
       "\n",
       "    .dataframe thead th {\n",
       "        text-align: right;\n",
       "    }\n",
       "</style>\n",
       "<table border=\"1\" class=\"dataframe\">\n",
       "  <thead>\n",
       "    <tr style=\"text-align: right;\">\n",
       "      <th></th>\n",
       "      <th>lq45</th>\n",
       "      <th>jci</th>\n",
       "      <th>idx30</th>\n",
       "      <th>eido</th>\n",
       "      <th>spy</th>\n",
       "      <th>dom_b</th>\n",
       "      <th>dom_s</th>\n",
       "      <th>for_b</th>\n",
       "      <th>for_s</th>\n",
       "      <th>dom_total</th>\n",
       "      <th>dom_net</th>\n",
       "      <th>for_total</th>\n",
       "      <th>for_net</th>\n",
       "      <th>seasonal</th>\n",
       "    </tr>\n",
       "    <tr>\n",
       "      <th>date</th>\n",
       "      <th></th>\n",
       "      <th></th>\n",
       "      <th></th>\n",
       "      <th></th>\n",
       "      <th></th>\n",
       "      <th></th>\n",
       "      <th></th>\n",
       "      <th></th>\n",
       "      <th></th>\n",
       "      <th></th>\n",
       "      <th></th>\n",
       "      <th></th>\n",
       "      <th></th>\n",
       "      <th></th>\n",
       "    </tr>\n",
       "  </thead>\n",
       "  <tbody>\n",
       "    <tr>\n",
       "      <th>2022-11-18</th>\n",
       "      <td>0.013687</td>\n",
       "      <td>0.012181</td>\n",
       "      <td>0.011455</td>\n",
       "      <td>0.018044</td>\n",
       "      <td>-0.009033</td>\n",
       "      <td>0.021441</td>\n",
       "      <td>0.028583</td>\n",
       "      <td>3.96612</td>\n",
       "      <td>3.93384</td>\n",
       "      <td>0.024502</td>\n",
       "      <td>0.81014</td>\n",
       "      <td>7.8526</td>\n",
       "      <td>0.676</td>\n",
       "      <td>1.009547</td>\n",
       "    </tr>\n",
       "  </tbody>\n",
       "</table>\n",
       "</div>"
      ],
      "text/plain": [
       "                lq45       jci     idx30      eido       spy     dom_b  \\\n",
       "date                                                                     \n",
       "2022-11-18  0.013687  0.012181  0.011455  0.018044 -0.009033  0.021441   \n",
       "\n",
       "               dom_s    for_b    for_s  dom_total  dom_net  for_total  \\\n",
       "date                                                                    \n",
       "2022-11-18  0.028583  3.96612  3.93384   0.024502  0.81014     7.8526   \n",
       "\n",
       "            for_net  seasonal  \n",
       "date                           \n",
       "2022-11-18    0.676  1.009547  "
      ]
     },
     "execution_count": 10,
     "metadata": {},
     "output_type": "execute_result"
    }
   ],
   "source": [
    "df_value_for_outlier = gf.load_from_pkl(f'{remodel_dir}value_for_outlier.pkl')\n",
    "df_6 = DataPrep.outlier_treatment_batch(dataframe=df_5, df_value_for_outlier=df_value_for_outlier)\n",
    "df_6"
   ]
  },
  {
   "cell_type": "markdown",
   "metadata": {},
   "source": [
    "## Step 7"
   ]
  },
  {
   "cell_type": "code",
   "execution_count": 12,
   "metadata": {},
   "outputs": [
    {
     "data": {
      "text/html": [
       "<div>\n",
       "<style scoped>\n",
       "    .dataframe tbody tr th:only-of-type {\n",
       "        vertical-align: middle;\n",
       "    }\n",
       "\n",
       "    .dataframe tbody tr th {\n",
       "        vertical-align: top;\n",
       "    }\n",
       "\n",
       "    .dataframe thead th {\n",
       "        text-align: right;\n",
       "    }\n",
       "</style>\n",
       "<table border=\"1\" class=\"dataframe\">\n",
       "  <thead>\n",
       "    <tr style=\"text-align: right;\">\n",
       "      <th></th>\n",
       "      <th>lq45</th>\n",
       "      <th>jci</th>\n",
       "      <th>idx30</th>\n",
       "      <th>eido</th>\n",
       "      <th>spy</th>\n",
       "      <th>dom_b</th>\n",
       "      <th>dom_s</th>\n",
       "      <th>for_b</th>\n",
       "      <th>for_s</th>\n",
       "      <th>dom_total</th>\n",
       "      <th>dom_net</th>\n",
       "      <th>for_total</th>\n",
       "      <th>for_net</th>\n",
       "      <th>seasonal</th>\n",
       "    </tr>\n",
       "    <tr>\n",
       "      <th>date</th>\n",
       "      <th></th>\n",
       "      <th></th>\n",
       "      <th></th>\n",
       "      <th></th>\n",
       "      <th></th>\n",
       "      <th></th>\n",
       "      <th></th>\n",
       "      <th></th>\n",
       "      <th></th>\n",
       "      <th></th>\n",
       "      <th></th>\n",
       "      <th></th>\n",
       "      <th></th>\n",
       "      <th></th>\n",
       "    </tr>\n",
       "  </thead>\n",
       "  <tbody>\n",
       "    <tr>\n",
       "      <th>2022-11-18</th>\n",
       "      <td>1.421694</td>\n",
       "      <td>1.62087</td>\n",
       "      <td>1.159236</td>\n",
       "      <td>1.480886</td>\n",
       "      <td>-1.561916</td>\n",
       "      <td>0.052924</td>\n",
       "      <td>0.082377</td>\n",
       "      <td>1.779815</td>\n",
       "      <td>1.7237</td>\n",
       "      <td>0.07584</td>\n",
       "      <td>1.404022</td>\n",
       "      <td>1.803734</td>\n",
       "      <td>1.466343</td>\n",
       "      <td>0.561184</td>\n",
       "    </tr>\n",
       "  </tbody>\n",
       "</table>\n",
       "</div>"
      ],
      "text/plain": [
       "                lq45      jci     idx30      eido       spy     dom_b  \\\n",
       "date                                                                    \n",
       "2022-11-18  1.421694  1.62087  1.159236  1.480886 -1.561916  0.052924   \n",
       "\n",
       "               dom_s     for_b   for_s  dom_total   dom_net  for_total  \\\n",
       "date                                                                     \n",
       "2022-11-18  0.082377  1.779815  1.7237    0.07584  1.404022   1.803734   \n",
       "\n",
       "             for_net  seasonal  \n",
       "date                            \n",
       "2022-11-18  1.466343  0.561184  "
      ]
     },
     "execution_count": 12,
     "metadata": {},
     "output_type": "execute_result"
    }
   ],
   "source": [
    "df_7 = DataPrep.std_scaler_transform(dataframe=df_6, scaler=scaler)\n",
    "df_7"
   ]
  },
  {
   "cell_type": "markdown",
   "metadata": {},
   "source": [
    "## Step 8"
   ]
  },
  {
   "cell_type": "code",
   "execution_count": 13,
   "metadata": {},
   "outputs": [
    {
     "data": {
      "text/html": [
       "<div>\n",
       "<style scoped>\n",
       "    .dataframe tbody tr th:only-of-type {\n",
       "        vertical-align: middle;\n",
       "    }\n",
       "\n",
       "    .dataframe tbody tr th {\n",
       "        vertical-align: top;\n",
       "    }\n",
       "\n",
       "    .dataframe thead th {\n",
       "        text-align: right;\n",
       "    }\n",
       "</style>\n",
       "<table border=\"1\" class=\"dataframe\">\n",
       "  <thead>\n",
       "    <tr style=\"text-align: right;\">\n",
       "      <th></th>\n",
       "      <th>lq45</th>\n",
       "      <th>pred_lq45</th>\n",
       "      <th>lq45_inv</th>\n",
       "      <th>pred_lq45_inv</th>\n",
       "    </tr>\n",
       "    <tr>\n",
       "      <th>date</th>\n",
       "      <th></th>\n",
       "      <th></th>\n",
       "      <th></th>\n",
       "      <th></th>\n",
       "    </tr>\n",
       "  </thead>\n",
       "  <tbody>\n",
       "    <tr>\n",
       "      <th>2022-11-18</th>\n",
       "      <td>1.421694</td>\n",
       "      <td>1.194661</td>\n",
       "      <td>0.013687</td>\n",
       "      <td>0.011559</td>\n",
       "    </tr>\n",
       "  </tbody>\n",
       "</table>\n",
       "</div>"
      ],
      "text/plain": [
       "                lq45  pred_lq45  lq45_inv  pred_lq45_inv\n",
       "date                                                    \n",
       "2022-11-18  1.421694   1.194661  0.013687       0.011559"
      ]
     },
     "execution_count": 13,
     "metadata": {},
     "output_type": "execute_result"
    }
   ],
   "source": [
    "df_8 = Predictor.forecasting(dataframe=df_7, name='df_8')\n",
    "df_8"
   ]
  },
  {
   "cell_type": "markdown",
   "metadata": {},
   "source": [
    "# Predicting"
   ]
  },
  {
   "cell_type": "code",
   "execution_count": null,
   "metadata": {},
   "outputs": [],
   "source": [
    "df_forecast_valid = Predictor.forecasting(dataframe=df_valid, name='pred_valid')\n",
    "df_forecast_test = Predictor.forecasting(dataframe=df_test, name='pred_test')"
   ]
  },
  {
   "cell_type": "code",
   "execution_count": null,
   "metadata": {},
   "outputs": [],
   "source": [
    "df_forecast_test[['lq45_inv','pred_lq45_inv']].plot(figsize =(15,4))\n",
    "df_forecast_valid[['lq45_inv','pred_lq45_inv']].plot(figsize =(15,4))\n",
    "plt.show()"
   ]
  },
  {
   "cell_type": "markdown",
   "metadata": {},
   "source": [
    "## Predict Real"
   ]
  },
  {
   "cell_type": "code",
   "execution_count": null,
   "metadata": {},
   "outputs": [],
   "source": [
    "for i in range(1,11):\n",
    "    i_to = -1 * i\n",
    "    i_from = i_to - 1\n",
    "    df_real = gf.load_from_pkl(filename=f'{data_dir}df_test_05.pkl')[i_from:i_to]\n",
    "    df_real_pred = Predictor.forecasting(dataframe=df_real, name='pred_real')\n",
    "\n",
    "\n",
    "    print(df_real_pred)"
   ]
  }
 ],
 "metadata": {
  "kernelspec": {
   "display_name": "Python 3.9.7 ('venv_lq45': venv)",
   "language": "python",
   "name": "python3"
  },
  "language_info": {
   "codemirror_mode": {
    "name": "ipython",
    "version": 3
   },
   "file_extension": ".py",
   "mimetype": "text/x-python",
   "name": "python",
   "nbconvert_exporter": "python",
   "pygments_lexer": "ipython3",
   "version": "3.9.7"
  },
  "orig_nbformat": 4,
  "vscode": {
   "interpreter": {
    "hash": "6278c06124528cd4ed3fd16e78556aa0908ebc47bac6e8bccf5edd10db3f6475"
   }
  }
 },
 "nbformat": 4,
 "nbformat_minor": 2
}
