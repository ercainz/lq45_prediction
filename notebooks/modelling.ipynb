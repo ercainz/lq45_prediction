{
 "cells": [
  {
   "cell_type": "code",
   "execution_count": null,
   "metadata": {},
   "outputs": [],
   "source": [
    "import sys\n",
    "sys.path.insert(0, '..//src')\n",
    "sys.path.insert(0, '..//src//data')\n",
    "sys.path.insert(0, '..//src//features')\n",
    "sys.path.insert(0, '..//src//models')\n",
    "\n",
    "import global_func as gf\n",
    "import data_preprocessing\n",
    "import predict\n",
    "import fit_model\n",
    "\n",
    "import matplotlib.pyplot as plt\n",
    "import seaborn as sns\n",
    "import numpy as np\n",
    "import pandas as pd \n",
    "\n",
    "config_dir = '..\\\\config\\\\'\n",
    "data_dir = '..\\\\' + gf.read_config(config_dir=config_dir, section='DIR', key='DATA_PROCESSED')\n",
    "models_dir = '..\\\\' + gf.read_config(config_dir=config_dir, section='DIR', key='MODELS')\n",
    "remodel_dir = '..\\\\' + gf.read_config(config_dir=config_dir, section='DIR', key='DATA_REMODEL')\n",
    "\n",
    "\n",
    "DataPrep = data_preprocessing.DataPreprocessing()\n",
    "model = gf.load_from_pkl(filename=f'{models_dir}sarimax.pkl')\n",
    "scaler = gf.load_from_pkl(filename=f'{models_dir}scaler.pkl')\n",
    "Predictor = predict.Predictor(model=model, scaler=scaler)\n",
    "gf.save_as_pkl(obj=Predictor, filename=f'{models_dir}predictor.pkl', compress=6)"
   ]
  },
  {
   "cell_type": "markdown",
   "metadata": {},
   "source": [
    "# Load Clean Data"
   ]
  },
  {
   "cell_type": "code",
   "execution_count": null,
   "metadata": {},
   "outputs": [],
   "source": [
    "df_raw = gf.load_from_pkl(f'{data_dir}df_raw.pkl')\n",
    "df_train = gf.load_from_pkl(filename=f'{data_dir}df_train_05.pkl')\n",
    "df_valid = gf.load_from_pkl(filename=f'{data_dir}df_valid_05.pkl')\n",
    "df_test = gf.load_from_pkl(filename=f'{data_dir}df_test_05.pkl')\n",
    "\n",
    "df_train.name = 'df_train'\n",
    "df_valid.name = 'df_valid'\n",
    "df_test.name = 'df_test'\n",
    "\n",
    "#gf.plotting_line_all(dataframe=df_train)"
   ]
  },
  {
   "cell_type": "markdown",
   "metadata": {},
   "source": [
    "# Modelling"
   ]
  },
  {
   "cell_type": "markdown",
   "metadata": {},
   "source": [
    "## Fitting Model"
   ]
  },
  {
   "cell_type": "code",
   "execution_count": null,
   "metadata": {},
   "outputs": [],
   "source": [
    "model = fit_model.modelling(train_dataframe=df_train)"
   ]
  },
  {
   "cell_type": "markdown",
   "metadata": {},
   "source": [
    "## Model Summary"
   ]
  },
  {
   "cell_type": "code",
   "execution_count": null,
   "metadata": {},
   "outputs": [],
   "source": [
    "print(model.summary())"
   ]
  },
  {
   "cell_type": "markdown",
   "metadata": {},
   "source": [
    "## Save to PKL"
   ]
  },
  {
   "cell_type": "code",
   "execution_count": null,
   "metadata": {},
   "outputs": [],
   "source": [
    "#gf.create_pkl(obj=model, pkl=r'..\\models\\pkl\\sarimax(0,0,0)(2,1,0)(12).pkl')"
   ]
  },
  {
   "cell_type": "markdown",
   "metadata": {},
   "source": [
    "# End to End Process"
   ]
  },
  {
   "cell_type": "markdown",
   "metadata": {},
   "source": [
    "## Step 1"
   ]
  },
  {
   "cell_type": "code",
   "execution_count": null,
   "metadata": {},
   "outputs": [],
   "source": [
    "prior = [100.23,200.23,300.23,400.23,500.23,440.23,330.23,202.23,110.239]\n",
    "current = [10100.669,202.669,303.669,604.669,50500.669,449.669,339.669,292.669,119.669]\n",
    "\n",
    "df = Predictor.parsing_data(prior=prior, current=current)\n",
    "print(Predictor.input_dict)\n",
    "df"
   ]
  },
  {
   "cell_type": "markdown",
   "metadata": {},
   "source": [
    "## Step 2"
   ]
  },
  {
   "cell_type": "code",
   "execution_count": null,
   "metadata": {},
   "outputs": [],
   "source": [
    "# Maybe Unecessary\n",
    "df_2 = DataPrep.resampling(dataframe=df, interval='B', resampling_method='median', fillna_method='ffill')\n",
    "df_2"
   ]
  },
  {
   "cell_type": "markdown",
   "metadata": {},
   "source": [
    "## Step 3"
   ]
  },
  {
   "cell_type": "code",
   "execution_count": null,
   "metadata": {},
   "outputs": [],
   "source": [
    "df_3 = DataPrep.enriching(dataframe=df_2)\n",
    "df_3"
   ]
  },
  {
   "cell_type": "markdown",
   "metadata": {},
   "source": [
    "## Step 4"
   ]
  },
  {
   "cell_type": "code",
   "execution_count": null,
   "metadata": {},
   "outputs": [],
   "source": [
    "df_seasonal = gf.load_from_pkl(f'{remodel_dir}value_for_seasonal.pkl')\n",
    "df_4 = DataPrep.enriching_seasonal(dataframe=df_3, df_seasonal=df_seasonal)\n",
    "df_4"
   ]
  },
  {
   "cell_type": "markdown",
   "metadata": {},
   "source": [
    "## Step 5"
   ]
  },
  {
   "cell_type": "code",
   "execution_count": null,
   "metadata": {},
   "outputs": [],
   "source": [
    "pkl = f'{remodel_dir}list_non_stationary_cols.pkl'\n",
    "df_5 = DataPrep.stationary_transform(dataframe=df_4, non_stationary_cols_pkl=pkl)\n",
    "df_5"
   ]
  },
  {
   "cell_type": "markdown",
   "metadata": {},
   "source": [
    "## Step 6"
   ]
  },
  {
   "cell_type": "code",
   "execution_count": null,
   "metadata": {},
   "outputs": [],
   "source": [
    "df_value_for_outlier = gf.load_from_pkl(f'{remodel_dir}value_for_outlier.pkl')\n",
    "df_6 = DataPrep.outlier_treatment_batch(dataframe=df_5, df_value_for_outlier=df_value_for_outlier)\n",
    "df_6"
   ]
  },
  {
   "cell_type": "markdown",
   "metadata": {},
   "source": [
    "## Step 7"
   ]
  },
  {
   "cell_type": "code",
   "execution_count": null,
   "metadata": {},
   "outputs": [],
   "source": [
    "df_7 = DataPrep.std_scaler_transform(dataframe=df_6, scaler=scaler)\n",
    "df_7"
   ]
  },
  {
   "cell_type": "markdown",
   "metadata": {},
   "source": [
    "## Step 8"
   ]
  },
  {
   "cell_type": "code",
   "execution_count": null,
   "metadata": {},
   "outputs": [],
   "source": [
    "df_8 = Predictor.forecasting(dataframe=df_7, name='df_8')\n",
    "df_8"
   ]
  },
  {
   "cell_type": "markdown",
   "metadata": {},
   "source": [
    "# Predicting"
   ]
  },
  {
   "cell_type": "code",
   "execution_count": null,
   "metadata": {},
   "outputs": [],
   "source": [
    "df_forecast_valid = Predictor.forecasting(dataframe=df_valid, name='pred_valid')\n",
    "df_forecast_test = Predictor.forecasting(dataframe=df_test, name='pred_test')"
   ]
  },
  {
   "cell_type": "code",
   "execution_count": null,
   "metadata": {},
   "outputs": [],
   "source": [
    "df_forecast_test[['lq45_inv','pred_lq45_inv']].plot(figsize =(15,4))\n",
    "df_forecast_valid[['lq45_inv','pred_lq45_inv']].plot(figsize =(15,4))\n",
    "plt.show()"
   ]
  },
  {
   "cell_type": "markdown",
   "metadata": {},
   "source": [
    "## Predict Real"
   ]
  },
  {
   "cell_type": "code",
   "execution_count": null,
   "metadata": {},
   "outputs": [],
   "source": [
    "for i in range(1,11):\n",
    "    i_to = -1 * i\n",
    "    i_from = i_to - 1\n",
    "    df_real = gf.load_from_pkl(filename=f'{data_dir}df_test_05.pkl')[i_from:i_to]\n",
    "    df_real_pred = Predictor.forecasting(dataframe=df_real, name='pred_real')\n",
    "\n",
    "\n",
    "    print(df_real_pred)"
   ]
  }
 ],
 "metadata": {
  "kernelspec": {
   "display_name": "Python 3.9.7 ('venv_lq45': venv)",
   "language": "python",
   "name": "python3"
  },
  "language_info": {
   "codemirror_mode": {
    "name": "ipython",
    "version": 3
   },
   "file_extension": ".py",
   "mimetype": "text/x-python",
   "name": "python",
   "nbconvert_exporter": "python",
   "pygments_lexer": "ipython3",
   "version": "3.9.7"
  },
  "orig_nbformat": 4,
  "vscode": {
   "interpreter": {
    "hash": "6278c06124528cd4ed3fd16e78556aa0908ebc47bac6e8bccf5edd10db3f6475"
   }
  }
 },
 "nbformat": 4,
 "nbformat_minor": 2
}
