{
 "cells": [
  {
   "cell_type": "code",
   "execution_count": 1,
   "metadata": {},
   "outputs": [],
   "source": [
    "import sys\n",
    "sys.path.insert(0, '..//src')\n",
    "sys.path.insert(0, '..//src//data')\n",
    "sys.path.insert(0, '..//src//features')\n",
    "sys.path.insert(0, '..//src//models')\n",
    "\n",
    "import global_func as gf\n",
    "import data_preprocessing\n",
    "import predict\n",
    "import fit_model\n",
    "\n",
    "import matplotlib.pyplot as plt\n",
    "import seaborn as sns\n",
    "import numpy as np\n",
    "import pandas as pd "
   ]
  },
  {
   "cell_type": "markdown",
   "metadata": {},
   "source": [
    "# Load Clean Data"
   ]
  },
  {
   "cell_type": "code",
   "execution_count": 2,
   "metadata": {},
   "outputs": [],
   "source": [
    "DataPrep = data_preprocessing.DataPreprocessing()\n",
    "df_train = gf.load_pkl(pkl=r'..\\data\\processed\\df_train_05.pkl')\n",
    "df_valid = gf.load_pkl(pkl=r'..\\data\\processed\\df_valid_05.pkl')\n",
    "df_test = gf.load_pkl(pkl=r'..\\data\\processed\\df_test_05.pkl')\n",
    "\n",
    "df_train.name = 'df_train'\n",
    "df_valid.name = 'df_valid'\n",
    "df_test.name = 'df_test'\n",
    "\n",
    "#gf.plotting_line_all(dataframe=df_train)"
   ]
  },
  {
   "cell_type": "markdown",
   "metadata": {},
   "source": [
    "# Modelling"
   ]
  },
  {
   "cell_type": "markdown",
   "metadata": {},
   "source": [
    "## Fitting Model"
   ]
  },
  {
   "cell_type": "code",
   "execution_count": null,
   "metadata": {},
   "outputs": [],
   "source": [
    "model = fit_model.modelling(train_dataframe=df_train)"
   ]
  },
  {
   "cell_type": "markdown",
   "metadata": {},
   "source": [
    "## Model Summary"
   ]
  },
  {
   "cell_type": "code",
   "execution_count": null,
   "metadata": {},
   "outputs": [],
   "source": [
    "print(model.summary())"
   ]
  },
  {
   "cell_type": "markdown",
   "metadata": {},
   "source": [
    "## Save to PKL"
   ]
  },
  {
   "cell_type": "code",
   "execution_count": null,
   "metadata": {},
   "outputs": [],
   "source": [
    "#gf.create_pkl(obj=model, pkl=r'..\\models\\pkl\\sarimax(0,0,0)(2,1,0)(12).pkl')"
   ]
  },
  {
   "cell_type": "markdown",
   "metadata": {},
   "source": [
    "# Predicting"
   ]
  },
  {
   "cell_type": "code",
   "execution_count": 4,
   "metadata": {},
   "outputs": [],
   "source": [
    "#sarimax = gf.load_pkl(pkl=r'..\\models\\pkl\\sarimax(0,0,0)(2,1,0)(12).pkl')\n",
    "#scaler = gf.load_pkl(pkl=r'..\\models\\pkl\\scaler.pkl')\n",
    "#Predictor = predict.Predictor(model=sarimax, scaler=scaler)\n",
    "#gf.create_pkl(obj=Predictor, pkl=r'..\\models\\pkl\\predictor.pkl')\n",
    "#Predictor = gf.load_pkl(pkl=r'..\\models\\pkl\\predictor.pkl')\n",
    "Predictor = gf.load_pkl(pkl=r'..\\.cannot_upload\\predictor.pkl')\n",
    "\n",
    "df_forecast_valid = Predictor.forecasting(dataframe=df_valid, name='pred_valid')\n",
    "df_forecast_test = Predictor.forecasting(dataframe=df_test, name='pred_test')"
   ]
  },
  {
   "cell_type": "code",
   "execution_count": null,
   "metadata": {},
   "outputs": [],
   "source": [
    "df_forecast_test[['lq45_inv','pred_lq45_inv']].plot(figsize =(15,4))\n",
    "df_forecast_valid[['lq45_inv','pred_lq45_inv']].plot(figsize =(15,4))\n",
    "plt.show()"
   ]
  },
  {
   "cell_type": "markdown",
   "metadata": {},
   "source": [
    "## Predict Real"
   ]
  },
  {
   "cell_type": "code",
   "execution_count": null,
   "metadata": {},
   "outputs": [],
   "source": [
    "for i in range(1,11):\n",
    "    i_to = -1 * i\n",
    "    i_from = i_to - 1\n",
    "    df_real = gf.load_pkl(pkl=r'..\\data\\processed\\df_test_05.pkl')[i_from:i_to]\n",
    "    df_real_pred = Predictor.forecasting(dataframe=df_real, name='pred_real')\n",
    "\n",
    "    print(df_real_pred)"
   ]
  }
 ],
 "metadata": {
  "kernelspec": {
   "display_name": "Python 3.9.7 ('venv_lq45': venv)",
   "language": "python",
   "name": "python3"
  },
  "language_info": {
   "codemirror_mode": {
    "name": "ipython",
    "version": 3
   },
   "file_extension": ".py",
   "mimetype": "text/x-python",
   "name": "python",
   "nbconvert_exporter": "python",
   "pygments_lexer": "ipython3",
   "version": "3.9.7"
  },
  "orig_nbformat": 4,
  "vscode": {
   "interpreter": {
    "hash": "6278c06124528cd4ed3fd16e78556aa0908ebc47bac6e8bccf5edd10db3f6475"
   }
  }
 },
 "nbformat": 4,
 "nbformat_minor": 2
}
