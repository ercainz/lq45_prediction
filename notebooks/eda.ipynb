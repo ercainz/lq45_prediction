{
 "cells": [
  {
   "cell_type": "code",
   "execution_count": null,
   "metadata": {},
   "outputs": [],
   "source": [
    "import sys\n",
    "sys.path.insert(0, '..//src')\n",
    "\n",
    "import global_func as gf\n",
    "import load_data\n",
    "import data_preprocessing as dp\n",
    "\n",
    "import matplotlib.pyplot as plt\n",
    "import seaborn as sns\n",
    "import numpy as np\n",
    "import pandas as pd \n",
    "\n",
    "config_dir = '..\\\\config\\\\'\n",
    "data_raw_dir = '..\\\\' + gf.read_config(config_dir=config_dir, section='DIR', key='DATA_RAW')\n",
    "data_proc_dir = '..\\\\' + gf.read_config(config_dir=config_dir, section='DIR', key='DATA_PROCESSED')\n",
    "data_remod_dir = '..\\\\' + gf.read_config(config_dir=config_dir, section='DIR', key='DATA_REMODEL')"
   ]
  },
  {
   "cell_type": "markdown",
   "metadata": {},
   "source": [
    "# Data Collection"
   ]
  },
  {
   "cell_type": "code",
   "execution_count": null,
   "metadata": {},
   "outputs": [],
   "source": [
    "df_raw = load_data.load_csv(f\"{data_raw_dir}{gf.read_config(config_dir=config_dir, section='FILENAME', key='DATASET')}.csv\")\n",
    "df_raw.head()"
   ]
  },
  {
   "cell_type": "markdown",
   "metadata": {},
   "source": [
    "# Data Definition & Validation"
   ]
  },
  {
   "cell_type": "code",
   "execution_count": null,
   "metadata": {},
   "outputs": [],
   "source": [
    "print(df_raw.info())\n",
    "print()\n",
    "print(df_raw.isna().sum())"
   ]
  },
  {
   "cell_type": "markdown",
   "metadata": {},
   "source": [
    "## Resample data time-series: Interval = hari-kerja"
   ]
  },
  {
   "cell_type": "code",
   "execution_count": null,
   "metadata": {},
   "outputs": [],
   "source": [
    "df_proc = dp.resampling(dataframe=df_raw, interval='B', resampling_method='median', fillna_method='ffill')\n",
    "df_proc.tail()"
   ]
  },
  {
   "cell_type": "markdown",
   "metadata": {},
   "source": [
    "## Set Target"
   ]
  },
  {
   "cell_type": "code",
   "execution_count": null,
   "metadata": {},
   "outputs": [],
   "source": [
    "df_proc = dp.set_target(dataframe=df_proc, \n",
    "                        datacolumn=gf.read_config(config_dir=config_dir, section='FEATURES', key='TARGET_COL'), \n",
    "                        future_days=int(gf.read_config(config_dir=config_dir, section='FEATURES', key='TARGET_DAYS')))\n",
    "df_proc.tail()"
   ]
  },
  {
   "cell_type": "markdown",
   "metadata": {},
   "source": [
    "## Feature enriching"
   ]
  },
  {
   "cell_type": "code",
   "execution_count": null,
   "metadata": {},
   "outputs": [],
   "source": [
    "df_proc = dp.enriching(dataframe=df_proc)\n",
    "df_proc.tail()"
   ]
  },
  {
   "cell_type": "markdown",
   "metadata": {},
   "source": [
    "# Data Splitting"
   ]
  },
  {
   "cell_type": "code",
   "execution_count": null,
   "metadata": {},
   "outputs": [],
   "source": [
    "train_end = gf.read_config(config_dir=config_dir, section='FEATURES', key='TRAIN_END')\n",
    "valid_end = gf.read_config(config_dir=config_dir, section='FEATURES', key='VALID_END')\n",
    "\n",
    "df_train, df_valid, df_test = dp.splitting(dataframe=df_proc, train_end=train_end, valid_end=valid_end)\n",
    "df_train.name, df_valid.name, df_test.name = 'DATA TRAIN','DATA VALID','DATA TEST'\n",
    "'''\n",
    "gf.save_as_pkl(obj=df_train, filename=f'{data_proc_dir}df_train_01.pkl', compress=5)\n",
    "gf.save_as_pkl(obj=df_valid, filename=f'{data_proc_dir}df_valid_01.pkl', compress=5)\n",
    "gf.save_as_pkl(obj=df_test, filename=f'{data_proc_dir}df_test_01.pkl', compress=5)\n",
    "'''"
   ]
  },
  {
   "cell_type": "markdown",
   "metadata": {},
   "source": [
    "# Target Overview"
   ]
  },
  {
   "cell_type": "code",
   "execution_count": null,
   "metadata": {},
   "outputs": [],
   "source": [
    "df_train = gf.load_from_pkl(f'{data_proc_dir}df_train_01.pkl')\n",
    "df_valid = gf.load_from_pkl(f'{data_proc_dir}df_valid_01.pkl')\n",
    "df_test = gf.load_from_pkl(f'{data_proc_dir}df_test_01.pkl')\n",
    "df_train.name, df_valid.name, df_test.name = 'DATA TRAIN','DATA VALID','DATA TEST'\n"
   ]
  },
  {
   "cell_type": "markdown",
   "metadata": {},
   "source": [
    "## Explorasi Target"
   ]
  },
  {
   "cell_type": "code",
   "execution_count": null,
   "metadata": {},
   "outputs": [],
   "source": [
    "def plotting_target(train, valid, test, savefig=''):\n",
    "    fig = plt.figure(figsize=(18,8))\n",
    "\n",
    "    for frame in [train, valid, test]:\n",
    "        plt.plot(frame.index, frame['target'], label=frame.name)\n",
    "\n",
    "    plt.legend(loc='upper left')\n",
    "    fig.tight_layout()\n",
    "    plt.show()\n",
    "\n",
    "    if savefig != '':\n",
    "        fig.savefig(savefig)\n",
    "\n",
    "plotting_target(df_train, df_valid, df_test, savefig='../draft/line_target.jpg')"
   ]
  },
  {
   "cell_type": "code",
   "execution_count": null,
   "metadata": {},
   "outputs": [],
   "source": [
    "gf.plotting_hist_all(dataframe=df_train, savefig='../draft/hist_all.jpg')"
   ]
  },
  {
   "cell_type": "markdown",
   "metadata": {},
   "source": [
    "## Explorasi Tren"
   ]
  },
  {
   "cell_type": "code",
   "execution_count": null,
   "metadata": {},
   "outputs": [],
   "source": [
    "def plotting_tren(df, savefig=''):\n",
    "    df_monthly = dp.resampling(dataframe=df, interval='M', resampling_method='median', fillna_method='ffill')\n",
    "    df_quarterly = dp.resampling(dataframe=df, interval='Q', resampling_method='median', fillna_method='ffill')\n",
    "    df_yearly = dp.resampling(dataframe=df, interval='A', resampling_method='median', fillna_method='ffill')\n",
    "    \n",
    "    df_monthly.name = 'TREND BULANAN'\n",
    "    df_quarterly.name = 'TREND KWARTAL'\n",
    "    df_yearly.name = 'TREND TAHUNAN'\n",
    "\n",
    "    fig = plt.figure(figsize=(18,8))\n",
    "    for frame in [df, df_monthly, df_quarterly, df_yearly]:\n",
    "        plt.plot(frame.index, frame['target'], label=frame.name)\n",
    "    \n",
    "    plt.legend(loc='upper left')\n",
    "    plt.tight_layout()\n",
    "    if savefig != '':\n",
    "        fig.savefig(savefig)\n",
    "    plt.show()\n",
    "\n",
    "plotting_tren(df=df_train, savefig='../draft/line_target_trend.jpg')"
   ]
  },
  {
   "cell_type": "markdown",
   "metadata": {},
   "source": [
    "# Dekomposisi Seasonal"
   ]
  },
  {
   "cell_type": "code",
   "execution_count": null,
   "metadata": {},
   "outputs": [],
   "source": [
    "df_train = gf.load_from_pkl(f'{data_proc_dir}df_train_01.pkl')\n",
    "df_valid = gf.load_from_pkl(f'{data_proc_dir}df_valid_01.pkl')\n",
    "df_test = gf.load_from_pkl(f'{data_proc_dir}df_test_01.pkl')\n",
    "df_train.name, df_valid.name, df_test.name = 'DATA TRAIN','DATA VALID','DATA TEST'"
   ]
  },
  {
   "cell_type": "code",
   "execution_count": null,
   "metadata": {},
   "outputs": [],
   "source": [
    "result_mul, _ = dp.monthly_seasonal_feature(dataframe_train=df_train)\n",
    "\n",
    "result_mul.seasonal[:24].to_frame().plot(subplots=True,figsize =(10,5))\n",
    "plt.title('Seasonal trend (monthly)')\n",
    "plt.tight_layout()\n",
    "#plt.savefig('../draft/line_target_seasonal_trend.jpg')\n",
    "plt.show()"
   ]
  },
  {
   "cell_type": "code",
   "execution_count": null,
   "metadata": {},
   "outputs": [],
   "source": [
    "result_mul"
   ]
  },
  {
   "cell_type": "markdown",
   "metadata": {},
   "source": [
    "## Feature enriching: col seasonal"
   ]
  },
  {
   "cell_type": "code",
   "execution_count": null,
   "metadata": {},
   "outputs": [],
   "source": [
    "fname = data_remod_dir + gf.read_config(config_dir=config_dir, section='FILENAME', key='DF_SEASONAL') + '.pkl'\n",
    "df_seasonal = gf.load_from_pkl(fname)\n",
    "df_train = dp.enriching_seasonal(dataframe=df_train, df_seasonal=df_seasonal)\n",
    "df_valid = dp.enriching_seasonal(dataframe=df_valid, df_seasonal=df_seasonal)\n",
    "df_test = dp.enriching_seasonal(dataframe=df_test, df_seasonal=df_seasonal)\n",
    "\n",
    "'''\n",
    "gf.save_as_pkl(obj=df_train, filename=f'{data_proc_dir}df_train_02.pkl', compress=5)\n",
    "gf.save_as_pkl(obj=df_valid, filename=f'{data_proc_dir}df_valid_02.pkl', compress=5)\n",
    "gf.save_as_pkl(obj=df_test, filename=f'{data_proc_dir}df_test_02.pkl', compress=5)\n",
    "'''"
   ]
  },
  {
   "cell_type": "markdown",
   "metadata": {},
   "source": [
    "# Cek stasionary & Transform Lag-Differencing"
   ]
  },
  {
   "cell_type": "code",
   "execution_count": null,
   "metadata": {},
   "outputs": [],
   "source": [
    "df_train = gf.load_from_pkl(f'{data_proc_dir}df_train_02.pkl')\n",
    "df_valid = gf.load_from_pkl(f'{data_proc_dir}df_valid_02.pkl')\n",
    "df_test = gf.load_from_pkl(f'{data_proc_dir}df_test_02.pkl')\n",
    "df_train.name, df_valid.name, df_test.name = 'DATA TRAIN','DATA VALID','DATA TEST'"
   ]
  },
  {
   "cell_type": "markdown",
   "metadata": {},
   "source": [
    "## Augmented Dickey-Fuller Test\n",
    "The time series is considered stationary if the p-value is low (<0.05) and the Test Statistic is lower than the critical values at 1%, 5%, 10% levels of significance."
   ]
  },
  {
   "cell_type": "code",
   "execution_count": null,
   "metadata": {},
   "outputs": [],
   "source": [
    "non_stationary_cols = dp.stationary_checker_with_adfuller(dataframe=df_train, show_detail=True)\n",
    "#non_stationary_cols_fname = data_remod_dir + gf.read_config(config_dir=config_dir, section='FILENAME', key='NONSTATIONARY_COL_LIST') + '.pkl'\n",
    "#gf.save_as_pkl(obj=non_stationary_cols, filename=non_stationary_cols_fname, compress=5)"
   ]
  },
  {
   "cell_type": "code",
   "execution_count": null,
   "metadata": {},
   "outputs": [],
   "source": [
    "non_stationary_cols_pkl = data_remod_dir + gf.read_config(config_dir=config_dir, section='FILENAME', key='NONSTATIONARY_COL_LIST') + '.pkl'\n",
    "\n",
    "df_train = dp.stationary_transform(dataframe=df_train, non_stationary_cols_pkl=non_stationary_cols_pkl)\n",
    "df_valid = dp.stationary_transform(dataframe=df_valid, non_stationary_cols_pkl=non_stationary_cols_pkl)\n",
    "df_test = dp.stationary_transform(dataframe=df_test, non_stationary_cols_pkl=non_stationary_cols_pkl)\n",
    "df_train.name, df_valid.name, df_test.name = 'DATA TRAIN','DATA VALID','DATA TEST'\n",
    "\n",
    "'''\n",
    "gf.save_as_pkl(obj=df_train, filename=f'{data_proc_dir}df_train_03.pkl', compress=5)\n",
    "gf.save_as_pkl(obj=df_valid, filename=f'{data_proc_dir}df_valid_03.pkl', compress=5)\n",
    "gf.save_as_pkl(obj=df_test, filename=f'{data_proc_dir}df_test_03.pkl', compress=5)\n",
    "'''"
   ]
  },
  {
   "cell_type": "code",
   "execution_count": null,
   "metadata": {},
   "outputs": [],
   "source": [
    "non_stationary_cols_pkl"
   ]
  },
  {
   "cell_type": "code",
   "execution_count": null,
   "metadata": {},
   "outputs": [],
   "source": [
    "def plotting_stasioner(train, valid, test, col):\n",
    "    fig, axes = plt.subplots(figsize=[18, 5])\n",
    "\n",
    "    for frame in [train, valid, test]:\n",
    "        rol_mean = frame[col].rolling(window = 30, center = False).mean()\n",
    "        rol_std = frame[col].rolling(window = 30, center = False).std()\n",
    "\n",
    "        axes.plot(frame.index, frame[col], label=frame.name)\n",
    "        axes.plot(rol_mean, label=f'{frame.name}: rolling mean', color='black')\n",
    "        axes.plot(rol_std, label=f'{frame.name}: rolling std', color='maroon')\n",
    "\n",
    "    axes.legend(loc='upper left', fontsize=8)\n",
    "    plt.tight_layout()\n",
    "    plt.show()\n",
    "\n",
    "plotting_stasioner(df_train, df_valid, df_test ,col='target')"
   ]
  },
  {
   "cell_type": "code",
   "execution_count": null,
   "metadata": {},
   "outputs": [],
   "source": [
    "plotting_target(df_train, df_valid, df_test, savefig='../draft/line_target_stat.jpg')"
   ]
  },
  {
   "cell_type": "markdown",
   "metadata": {},
   "source": [
    "# Cek Outlier & Imputasi"
   ]
  },
  {
   "cell_type": "code",
   "execution_count": null,
   "metadata": {},
   "outputs": [],
   "source": [
    "df_train = gf.load_from_pkl(f'{data_proc_dir}df_train_03.pkl')\n",
    "df_valid = gf.load_from_pkl(f'{data_proc_dir}df_valid_03.pkl')\n",
    "df_test = gf.load_from_pkl(f'{data_proc_dir}df_test_03.pkl')\n",
    "df_train.name, df_valid.name, df_test.name = 'DATA TRAIN','DATA VALID','DATA TEST'"
   ]
  },
  {
   "cell_type": "markdown",
   "metadata": {},
   "source": [
    "## Plotting: Histogram"
   ]
  },
  {
   "cell_type": "code",
   "execution_count": null,
   "metadata": {},
   "outputs": [],
   "source": [
    "gf.plotting_hist_all(dataframe=df_train)"
   ]
  },
  {
   "cell_type": "markdown",
   "metadata": {},
   "source": [
    "## Plotting: Boxplot"
   ]
  },
  {
   "cell_type": "code",
   "execution_count": null,
   "metadata": {},
   "outputs": [],
   "source": [
    "gf.plotting_box_all(dataframe=df_train)"
   ]
  },
  {
   "cell_type": "markdown",
   "metadata": {},
   "source": [
    "## Imputasi"
   ]
  },
  {
   "cell_type": "code",
   "execution_count": null,
   "metadata": {},
   "outputs": [],
   "source": [
    "df_value_for_outlier = dp.get_value_for_outlier(train_dataframe=df_train, lo_perc=10.0, hi_perc=90.0)\n",
    "df_train = dp.outlier_treatment_batch(dataframe=df_train, df_value_for_outlier=df_value_for_outlier)\n",
    "df_valid = dp.outlier_treatment_batch(dataframe=df_valid, df_value_for_outlier=df_value_for_outlier)\n",
    "df_test = dp.outlier_treatment_batch(dataframe=df_test, df_value_for_outlier=df_value_for_outlier)\n",
    "df_train.name, df_valid.name, df_test.name = 'DATA TRAIN','DATA VALID','DATA TEST'\n",
    "\n",
    "'''\n",
    "gf.save_as_pkl(obj=df_train, filename=f'{data_proc_dir}df_train_04.pkl', compress=5)\n",
    "gf.save_as_pkl(obj=df_valid, filename=f'{data_proc_dir}df_valid_04.pkl', compress=5)\n",
    "gf.save_as_pkl(obj=df_test, filename=f'{data_proc_dir}df_test_04.pkl', compress=5)\n",
    "'''"
   ]
  },
  {
   "cell_type": "markdown",
   "metadata": {},
   "source": [
    "# Standardizing"
   ]
  },
  {
   "cell_type": "code",
   "execution_count": null,
   "metadata": {},
   "outputs": [],
   "source": [
    "df_train = gf.load_from_pkl(f'{data_proc_dir}df_train_04.pkl')\n",
    "df_valid = gf.load_from_pkl(f'{data_proc_dir}df_valid_04.pkl')\n",
    "df_test = gf.load_from_pkl(f'{data_proc_dir}df_test_04.pkl')\n",
    "df_train.name, df_valid.name, df_test.name = 'DATA TRAIN','DATA VALID','DATA TEST'"
   ]
  },
  {
   "cell_type": "code",
   "execution_count": null,
   "metadata": {},
   "outputs": [],
   "source": [
    "gf.plotting_line_all(dataframe=df_train)"
   ]
  },
  {
   "cell_type": "code",
   "execution_count": null,
   "metadata": {},
   "outputs": [],
   "source": [
    "scaler = dp.std_scaler_fitting(train_dataframe=df_train)\n",
    "df_train = dp.std_scaler_transform(dataframe=df_train, scaler=scaler)\n",
    "df_valid = dp.std_scaler_transform(dataframe=df_valid, scaler=scaler)\n",
    "df_test = dp.std_scaler_transform(dataframe=df_test, scaler=scaler)\n",
    "\n",
    "'''\n",
    "gf.save_as_pkl(obj=df_train, filename=f'{data_proc_dir}df_train_05_stdz.pkl', compress=5)\n",
    "gf.save_as_pkl(obj=df_valid, filename=f'{data_proc_dir}df_valid_05_stdz.pkl', compress=5)\n",
    "gf.save_as_pkl(obj=df_test, filename=f'{data_proc_dir}df_test_05_stdz.pkl', compress=5)\n",
    "'''"
   ]
  },
  {
   "cell_type": "markdown",
   "metadata": {},
   "source": [
    "# Final Dataframe for modelling"
   ]
  },
  {
   "cell_type": "code",
   "execution_count": null,
   "metadata": {},
   "outputs": [],
   "source": [
    "df_train = gf.load_from_pkl(f'{data_proc_dir}df_train_05_stdz.pkl')\n",
    "df_valid = gf.load_from_pkl(f'{data_proc_dir}df_valid_05_stdz.pkl')\n",
    "df_test = gf.load_from_pkl(f'{data_proc_dir}df_test_05_stdz.pkl')\n",
    "df_train.name, df_valid.name, df_test.name = 'DATA TRAIN','DATA VALID','DATA TEST'"
   ]
  },
  {
   "cell_type": "code",
   "execution_count": null,
   "metadata": {},
   "outputs": [],
   "source": [
    "gf.plotting_line_all(dataframe=df_train)"
   ]
  }
 ],
 "metadata": {
  "kernelspec": {
   "display_name": "Python 3.9.7 ('venv_lq45': venv)",
   "language": "python",
   "name": "python3"
  },
  "language_info": {
   "codemirror_mode": {
    "name": "ipython",
    "version": 3
   },
   "file_extension": ".py",
   "mimetype": "text/x-python",
   "name": "python",
   "nbconvert_exporter": "python",
   "pygments_lexer": "ipython3",
   "version": "3.9.7"
  },
  "orig_nbformat": 4,
  "vscode": {
   "interpreter": {
    "hash": "6278c06124528cd4ed3fd16e78556aa0908ebc47bac6e8bccf5edd10db3f6475"
   }
  }
 },
 "nbformat": 4,
 "nbformat_minor": 2
}
