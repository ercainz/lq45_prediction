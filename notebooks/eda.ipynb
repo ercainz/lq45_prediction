{
 "cells": [
  {
   "cell_type": "code",
   "execution_count": null,
   "metadata": {},
   "outputs": [],
   "source": [
    "import sys\n",
    "sys.path.insert(0, '..//src')\n",
    "sys.path.insert(0, '..//src//data')\n",
    "sys.path.insert(0, '..//src//features')\n",
    "\n",
    "import global_func as gf\n",
    "import read_data\n",
    "import data_preprocessing\n",
    "\n",
    "import matplotlib.pyplot as plt\n",
    "import seaborn as sns\n",
    "import numpy as np\n",
    "import pandas as pd "
   ]
  },
  {
   "cell_type": "markdown",
   "metadata": {},
   "source": [
    "# Data Collection"
   ]
  },
  {
   "cell_type": "code",
   "execution_count": null,
   "metadata": {},
   "outputs": [],
   "source": [
    "#df_raw = read_data.load_csv(csv_name=r'..\\data\\raw\\dataset_Q122.csv')\n",
    "#gf.create_pkl(obj=df_raw, pkl=r'..\\data\\processed\\df_raw.pkl')\n",
    "\n",
    "df_raw = gf.load_pkl(pkl=r'..\\data\\processed\\df_raw.pkl')\n",
    "df_raw.head()"
   ]
  },
  {
   "cell_type": "markdown",
   "metadata": {},
   "source": [
    "# Data Definition & Validation"
   ]
  },
  {
   "cell_type": "code",
   "execution_count": null,
   "metadata": {},
   "outputs": [],
   "source": [
    "print(df_raw.info())\n",
    "print()\n",
    "print(df_raw.isna().sum())"
   ]
  },
  {
   "cell_type": "markdown",
   "metadata": {},
   "source": [
    "## Resample data time-series: Interval = hari-kerja"
   ]
  },
  {
   "cell_type": "code",
   "execution_count": null,
   "metadata": {},
   "outputs": [],
   "source": [
    "DataPrep = data_preprocessing.DataPreprocessing()\n",
    "df_proc = DataPrep.resampling(dataframe=df_raw, interval='B', resampling_method='median', fillna_method='ffill')\n",
    "df_proc.tail()"
   ]
  },
  {
   "cell_type": "markdown",
   "metadata": {},
   "source": [
    "## Feature enriching"
   ]
  },
  {
   "cell_type": "code",
   "execution_count": null,
   "metadata": {},
   "outputs": [],
   "source": [
    "df_proc = DataPrep.enriching(dataframe=df_proc)\n",
    "df_proc.tail()"
   ]
  },
  {
   "cell_type": "markdown",
   "metadata": {},
   "source": [
    "# Data Splitting"
   ]
  },
  {
   "cell_type": "code",
   "execution_count": null,
   "metadata": {},
   "outputs": [],
   "source": [
    "#df_train, df_valid, df_test = DataPrep.splitting(dataframe=df_proc, train_end='2020-12-31', valid_end='2021-07-31')\n",
    "#gf.create_pkl(obj=df_train, pkl=r'..\\data\\processed\\df_train_01.pkl')\n",
    "#gf.create_pkl(obj=df_valid, pkl=r'..\\data\\processed\\df_valid_01.pkl')\n",
    "#gf.create_pkl(obj=df_test, pkl=r'..\\data\\processed\\df_test_01.pkl')"
   ]
  },
  {
   "cell_type": "markdown",
   "metadata": {},
   "source": [
    "# EDA"
   ]
  },
  {
   "cell_type": "code",
   "execution_count": null,
   "metadata": {},
   "outputs": [],
   "source": [
    "df_train = gf.load_pkl(pkl=r'..\\data\\processed\\df_train_01.pkl')\n",
    "df_valid = gf.load_pkl(pkl=r'..\\data\\processed\\df_valid_01.pkl')\n",
    "df_test = gf.load_pkl(pkl=r'..\\data\\processed\\df_test_01.pkl')\n",
    "\n",
    "df_train.name = 'df_train'\n",
    "df_valid.name = 'df_valid'\n",
    "df_test.name = 'df_test'"
   ]
  },
  {
   "cell_type": "markdown",
   "metadata": {},
   "source": [
    "## Explorasi Target"
   ]
  },
  {
   "cell_type": "code",
   "execution_count": null,
   "metadata": {},
   "outputs": [],
   "source": [
    "def plotting_target():\n",
    "    fig = plt.figure(figsize=(18,5))\n",
    "    for frame in [df_train, df_valid, df_test]:\n",
    "        plt.plot(frame.index, frame['lq45'], label=frame.name)\n",
    "\n",
    "    plt.legend(loc='upper left')\n",
    "    plt.tight_layout()\n",
    "    plt.show()\n",
    "\n",
    "plotting_target()"
   ]
  },
  {
   "cell_type": "markdown",
   "metadata": {},
   "source": [
    "## Explorasi Tren"
   ]
  },
  {
   "cell_type": "code",
   "execution_count": null,
   "metadata": {},
   "outputs": [],
   "source": [
    "def plotting_tren(df):\n",
    "    df_monthly = DataPrep.resampling(dataframe=df, interval='M', resampling_method='median', fillna_method='ffill')\n",
    "    df_quarterly = DataPrep.resampling(dataframe=df, interval='Q', resampling_method='median', fillna_method='ffill')\n",
    "    df_yearly = DataPrep.resampling(dataframe=df, interval='A', resampling_method='median', fillna_method='ffill')\n",
    "\n",
    "    df_monthly.name = 'df_monthly'\n",
    "    df_quarterly.name = 'df_quarterly'\n",
    "    df_yearly.name = 'df_yearly'\n",
    "\n",
    "    fig = plt.figure(figsize=(18,5))\n",
    "    for frame in [df, df_monthly, df_quarterly, df_yearly]:\n",
    "        plt.plot(frame.index, frame['lq45'], label=frame.name)\n",
    "\n",
    "    plt.title('Tren LQ45')\n",
    "    plt.legend(loc='upper left')\n",
    "    plt.tight_layout()\n",
    "    plt.show()\n",
    "\n",
    "plotting_tren(df=df_train)"
   ]
  },
  {
   "cell_type": "markdown",
   "metadata": {},
   "source": [
    "# Dekomposisi Seasonal"
   ]
  },
  {
   "cell_type": "code",
   "execution_count": null,
   "metadata": {},
   "outputs": [],
   "source": [
    "DataPrep = data_preprocessing.DataPreprocessing()\n",
    "df_train = gf.load_pkl(pkl=r'..\\data\\processed\\df_train_01.pkl')\n",
    "df_valid = gf.load_pkl(pkl=r'..\\data\\processed\\df_valid_01.pkl')\n",
    "df_test = gf.load_pkl(pkl=r'..\\data\\processed\\df_test_01.pkl')"
   ]
  },
  {
   "cell_type": "code",
   "execution_count": null,
   "metadata": {},
   "outputs": [],
   "source": [
    "result_mul, _ = DataPrep.monthly_seasonal_feature(dataframe_train=df_train)\n",
    "\n",
    "result_mul.seasonal[:36].to_frame().plot(subplots=True,figsize =(18,5))\n",
    "plt.title('Seasonal tren Bulanan LQ45')\n",
    "plt.show()"
   ]
  },
  {
   "cell_type": "markdown",
   "metadata": {},
   "source": [
    "## Feature enriching: col seasonal"
   ]
  },
  {
   "cell_type": "code",
   "execution_count": null,
   "metadata": {},
   "outputs": [],
   "source": [
    "#_, df_seasonal = DataPrep.monthly_seasonal_feature(dataframe_train=df_train)\n",
    "#df_train,_ = DataPrep.enriching_seasonal(dataframe=df_train, df_seasonal=df_seasonal)\n",
    "#df_valid,_ = DataPrep.enriching_seasonal(dataframe=df_valid, df_seasonal=df_seasonal)\n",
    "#df_test,_ = DataPrep.enriching_seasonal(dataframe=df_test, df_seasonal=df_seasonal)\n",
    "#gf.create_pkl(obj=df_train, pkl=r'..\\data\\processed\\df_train_02.pkl')\n",
    "#gf.create_pkl(obj=df_valid, pkl=r'..\\data\\processed\\df_valid_02.pkl')\n",
    "#gf.create_pkl(obj=df_test, pkl=r'..\\data\\processed\\df_test_02.pkl')"
   ]
  },
  {
   "cell_type": "markdown",
   "metadata": {},
   "source": [
    "# Cek stasionary & Transform Lag-Differencing"
   ]
  },
  {
   "cell_type": "code",
   "execution_count": null,
   "metadata": {},
   "outputs": [],
   "source": [
    "DataPrep = data_preprocessing.DataPreprocessing()\n",
    "df_train = gf.load_pkl(pkl=r'..\\data\\processed\\df_train_02.pkl')\n",
    "df_valid = gf.load_pkl(pkl=r'..\\data\\processed\\df_valid_02.pkl')\n",
    "df_test = gf.load_pkl(pkl=r'..\\data\\processed\\df_test_02.pkl')\n",
    "\n",
    "df_train.name = 'df_train'\n",
    "df_valid.name = 'df_valid'\n",
    "df_test.name = 'df_test'"
   ]
  },
  {
   "cell_type": "markdown",
   "metadata": {},
   "source": [
    "## Augmented Dickey-Fuller Test\n",
    "The time series is considered stationary if the p-value is low (<0.05) and the Test Statistic is lower than the critical values at 1%, 5%, 10% levels of significance."
   ]
  },
  {
   "cell_type": "code",
   "execution_count": null,
   "metadata": {},
   "outputs": [],
   "source": [
    "non_stationary_cols = DataPrep.stationary_checker_with_adfuller(dataframe=df_train, show_detail=True)\n",
    "non_stationary_cols"
   ]
  },
  {
   "cell_type": "code",
   "execution_count": null,
   "metadata": {},
   "outputs": [],
   "source": [
    "#DataPrep = data_preprocessing.DataPreprocessing()\n",
    "#pkl = r'..\\models\\pkl\\list_non_stationary_cols.pkl'\n",
    "#df_train = DataPrep.stationary_transform(dataframe=df_train, non_stationary_cols_pkl=pkl)\n",
    "#df_valid = DataPrep.stationary_transform(dataframe=df_valid, non_stationary_cols_pkl=pkl)\n",
    "#df_test = DataPrep.stationary_transform(dataframe=df_test, non_stationary_cols_pkl=pkl)\n",
    "#gf.create_pkl(obj=df_train, pkl=r'..\\data\\processed\\df_train_03.pkl')\n",
    "#gf.create_pkl(obj=df_valid, pkl=r'..\\data\\processed\\df_valid_03.pkl')\n",
    "#gf.create_pkl(obj=df_test, pkl=r'..\\data\\processed\\df_test_03.pkl')\n",
    "\n",
    "\n",
    "df_train = gf.load_pkl(pkl=r'..\\data\\processed\\df_train_03.pkl')\n",
    "df_valid = gf.load_pkl(pkl=r'..\\data\\processed\\df_valid_03.pkl')\n",
    "df_test = gf.load_pkl(pkl=r'..\\data\\processed\\df_test_03.pkl')\n",
    "\n",
    "df_train.name = 'df_train'\n",
    "df_valid.name = 'df_valid'\n",
    "df_test.name = 'df_test'"
   ]
  },
  {
   "cell_type": "code",
   "execution_count": null,
   "metadata": {},
   "outputs": [],
   "source": [
    "def plotting_stasioner(df, col):\n",
    "    fig, axes = plt.subplots(figsize=[18, 5])\n",
    "\n",
    "    rol_mean = df[col].rolling(window = 30, center = False).mean()\n",
    "    rol_std = df[col].rolling(window = 30, center = False).std()\n",
    "\n",
    "    axes.plot(df.index, df[col], label=col)\n",
    "    axes.plot(rol_mean, label='rol_mean')\n",
    "    axes.plot(rol_std, label='rol_std')\n",
    "\n",
    "    axes.set_title(f'Stasioneritas {str(col).upper()}')\n",
    "    axes.legend(loc='upper left')\n",
    "    plt.tight_layout()\n",
    "    plt.show()\n",
    "\n",
    "plotting_stasioner(df=df_train,col='lq45')\n",
    "plotting_stasioner(df=df_valid,col='lq45')\n",
    "plotting_stasioner(df=df_test,col='lq45')"
   ]
  },
  {
   "cell_type": "markdown",
   "metadata": {},
   "source": [
    "# Cek Outlier & Imputasi"
   ]
  },
  {
   "cell_type": "code",
   "execution_count": null,
   "metadata": {},
   "outputs": [],
   "source": [
    "DataPrep = data_preprocessing.DataPreprocessing()\n",
    "df_train = gf.load_pkl(pkl=r'..\\data\\processed\\df_train_03.pkl')\n",
    "df_valid = gf.load_pkl(pkl=r'..\\data\\processed\\df_valid_03.pkl')\n",
    "df_test = gf.load_pkl(pkl=r'..\\data\\processed\\df_test_03.pkl')\n",
    "\n",
    "df_train.name = 'df_train'\n",
    "df_valid.name = 'df_valid'\n",
    "df_test.name = 'df_test'"
   ]
  },
  {
   "cell_type": "markdown",
   "metadata": {},
   "source": [
    "## Plotting: Histogram"
   ]
  },
  {
   "cell_type": "code",
   "execution_count": null,
   "metadata": {},
   "outputs": [],
   "source": [
    "gf.plotting_hist_all(dataframe=df_train)"
   ]
  },
  {
   "cell_type": "markdown",
   "metadata": {},
   "source": [
    "## Plotting: Boxplot"
   ]
  },
  {
   "cell_type": "code",
   "execution_count": null,
   "metadata": {},
   "outputs": [],
   "source": [
    "gf.plotting_box_all(dataframe=df_train)"
   ]
  },
  {
   "cell_type": "markdown",
   "metadata": {},
   "source": [
    "## Imputasi"
   ]
  },
  {
   "cell_type": "code",
   "execution_count": null,
   "metadata": {},
   "outputs": [],
   "source": [
    "#df_value_for_outlier = DataPrep.get_value_for_outlier(train_dataframe=df_train, lo_perc=10.0, hi_perc=90.0)\n",
    "#gf.create_pkl(obj=df_value_for_outlier, pkl=r'..\\models\\pkl\\df_imputasi.pkl')\n",
    "#df_value_for_outlier"
   ]
  },
  {
   "cell_type": "code",
   "execution_count": null,
   "metadata": {},
   "outputs": [],
   "source": [
    "'''\n",
    "DataPrep = data_preprocessing.DataPreprocessing()\n",
    "df_value_for_outlier = DataPrep.get_value_for_outlier(train_dataframe=df_train, lo_perc=10.0, hi_perc=90.0)\n",
    "df_train = DataPrep.outlier_treatment_batch(df_train, df_value_for_outlier=df_value_for_outlier)\n",
    "df_valid = DataPrep.outlier_treatment_batch(df_valid, df_value_for_outlier=df_value_for_outlier)\n",
    "df_test = DataPrep.outlier_treatment_batch(df_test, df_value_for_outlier=df_value_for_outlier)\n",
    "gf.create_pkl(obj=df_train, pkl=r'..\\data\\processed\\df_train_04.pkl')\n",
    "gf.create_pkl(obj=df_valid, pkl=r'..\\data\\processed\\df_valid_04.pkl')\n",
    "gf.create_pkl(obj=df_test, pkl=r'..\\data\\processed\\df_test_04.pkl')\n",
    "'''"
   ]
  },
  {
   "cell_type": "markdown",
   "metadata": {},
   "source": [
    "# Standardizing"
   ]
  },
  {
   "cell_type": "code",
   "execution_count": null,
   "metadata": {},
   "outputs": [],
   "source": [
    "DataPrep = data_preprocessing.DataPreprocessing()\n",
    "df_train = gf.load_pkl(pkl=r'..\\data\\processed\\df_train_04.pkl')\n",
    "df_valid = gf.load_pkl(pkl=r'..\\data\\processed\\df_valid_04.pkl')\n",
    "df_test = gf.load_pkl(pkl=r'..\\data\\processed\\df_test_04.pkl')\n",
    "\n",
    "df_train.name = 'df_train'\n",
    "df_valid.name = 'df_valid'\n",
    "df_test.name = 'df_test'"
   ]
  },
  {
   "cell_type": "code",
   "execution_count": null,
   "metadata": {},
   "outputs": [],
   "source": [
    "gf.plotting_line_all(dataframe=df_train)"
   ]
  },
  {
   "cell_type": "code",
   "execution_count": null,
   "metadata": {},
   "outputs": [],
   "source": [
    "'''\n",
    "DataPrep = data_preprocessing.DataPreprocessing()\n",
    "scaler = DataPrep.std_scaler_fitting(train_dataframe=df_train)\n",
    "df_train = DataPrep.std_scaler_transform(dataframe=df_train, scaler=scaler)\n",
    "df_valid = DataPrep.std_scaler_transform(dataframe=df_valid, scaler=scaler)\n",
    "df_test = DataPrep.std_scaler_transform(dataframe=df_test, scaler=scaler)\n",
    "gf.create_pkl(obj=df_train, pkl=r'..\\data\\processed\\df_train_05.pkl')\n",
    "gf.create_pkl(obj=df_valid, pkl=r'..\\data\\processed\\df_valid_05.pkl')\n",
    "gf.create_pkl(obj=df_test, pkl=r'..\\data\\processed\\df_test_05.pkl')\n",
    "'''"
   ]
  },
  {
   "cell_type": "code",
   "execution_count": null,
   "metadata": {},
   "outputs": [],
   "source": [
    "DataPrep = data_preprocessing.DataPreprocessing()\n",
    "df_train = gf.load_pkl(pkl=r'..\\data\\processed\\df_train_05.pkl')\n",
    "df_valid = gf.load_pkl(pkl=r'..\\data\\processed\\df_valid_05.pkl')\n",
    "df_test = gf.load_pkl(pkl=r'..\\data\\processed\\df_test_05.pkl')\n",
    "\n",
    "df_train.name = 'df_train'\n",
    "df_valid.name = 'df_valid'\n",
    "df_test.name = 'df_test'\n",
    "\n",
    "gf.plotting_line_all(dataframe=df_train)"
   ]
  }
 ],
 "metadata": {
  "kernelspec": {
   "display_name": "Python 3.9.7 ('venv_lq45': venv)",
   "language": "python",
   "name": "python3"
  },
  "language_info": {
   "codemirror_mode": {
    "name": "ipython",
    "version": 3
   },
   "file_extension": ".py",
   "mimetype": "text/x-python",
   "name": "python",
   "nbconvert_exporter": "python",
   "pygments_lexer": "ipython3",
   "version": "3.9.7"
  },
  "orig_nbformat": 4,
  "vscode": {
   "interpreter": {
    "hash": "6278c06124528cd4ed3fd16e78556aa0908ebc47bac6e8bccf5edd10db3f6475"
   }
  }
 },
 "nbformat": 4,
 "nbformat_minor": 2
}
